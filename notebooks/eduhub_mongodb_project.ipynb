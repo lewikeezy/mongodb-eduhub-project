{
 "cells": [
  {
   "cell_type": "markdown",
   "id": "45959861",
   "metadata": {},
   "source": [
    "## Part 1: Database Setup and Data Modeling"
   ]
  },
  {
   "cell_type": "code",
   "execution_count": null,
   "id": "124d8f8b",
   "metadata": {},
   "outputs": [
    {
     "name": "stdout",
     "output_type": "stream",
     "text": [
      "✅ Database 'eduhub_db' and collections created with validation rules.\n"
     ]
    }
   ],
   "source": [
    "from pymongo import MongoClient\n",
    "from datetime import datetime\n",
    "import pandas as pd\n",
    "\n",
    "# Establish MongoDB connection\n",
    "client = MongoClient(\"mongodb://localhost:27017/\")\n",
    "\n",
    "# Create or access the database\n",
    "db = client[\"eduhub_db\"]\n",
    "\n",
    "# Create collections with validation rules\n",
    "\n",
    "# Students collection schema\n",
    "students_validator = {\n",
    "    \"$jsonSchema\": {\n",
    "        \"bsonType\": \"object\",\n",
    "        \"required\": [\"student_id\", \"name\", \"email\", \"enrollment_date\"],\n",
    "        \"properties\": {\n",
    "            \"student_id\": {\"bsonType\": \"string\", \"description\": \"Unique student ID\"},\n",
    "            \"name\": {\"bsonType\": \"string\", \"description\": \"Full name of the student\"},\n",
    "            \"email\": {\"bsonType\": \"string\", \"pattern\": \"^.+@.+$\", \"description\": \"Valid email address\"},\n",
    "            \"enrollment_date\": {\"bsonType\": \"date\", \"description\": \"Date of enrollment\"},\n",
    "            \"courses\": {\n",
    "                \"bsonType\": \"array\",\n",
    "                \"items\": {\"bsonType\": \"string\"},\n",
    "                \"description\": \"List of enrolled course IDs\"\n",
    "            }\n",
    "        }\n",
    "    }\n",
    "}\n",
    "\n",
    "# Courses collection schema\n",
    "courses_validator = {\n",
    "    \"$jsonSchema\": {\n",
    "        \"bsonType\": \"object\",\n",
    "        \"required\": [\"course_id\", \"title\", \"instructor\"],\n",
    "        \"properties\": {\n",
    "            \"course_id\": {\"bsonType\": \"string\", \"description\": \"Unique course ID\"},\n",
    "            \"title\": {\"bsonType\": \"string\", \"description\": \"Course title\"},\n",
    "            \"instructor\": {\"bsonType\": \"string\", \"description\": \"Instructor name\"},\n",
    "            \"credits\": {\"bsonType\": \"int\", \"minimum\": 1, \"maximum\": 10, \"description\": \"Credit hours\"}\n",
    "        }\n",
    "    }\n",
    "}\n",
    "\n",
    "# Instructors collection schema\n",
    "instructors_validator = {\n",
    "    \"$jsonSchema\": {\n",
    "        \"bsonType\": \"object\",\n",
    "        \"required\": [\"instructor_id\", \"name\", \"email\"],\n",
    "        \"properties\": {\n",
    "            \"instructor_id\": {\"bsonType\": \"string\", \"description\": \"Unique instructor ID\"},\n",
    "            \"name\": {\"bsonType\": \"string\", \"description\": \"Instructor full name\"},\n",
    "            \"email\": {\"bsonType\": \"string\", \"pattern\": \"^.+@.+$\", \"description\": \"Valid email\"},\n",
    "            \"department\": {\"bsonType\": \"string\", \"description\": \"Department name\"}\n",
    "        }\n",
    "    }\n",
    "}\n",
    "\n",
    "\n",
    "# Drop old collections if exist (to prevent errors during re-run)\n",
    "\n",
    "db.drop_collection(\"students\")\n",
    "db.drop_collection(\"courses\")\n",
    "db.drop_collection(\"instructors\")\n",
    "\n",
    "\n",
    "# Create collections with validators\n",
    "\n",
    "db.create_collection(\"students\", validator=students_validator)\n",
    "db.create_collection(\"courses\", validator=courses_validator)\n",
    "db.create_collection(\"instructors\", validator=instructors_validator)\n",
    "\n",
    "print(\"successfully created Database 'eduhub_db' and collections with validation rules.\")\n"
   ]
  }
 ],
 "metadata": {
  "kernelspec": {
   "display_name": "venv (3.13.4)",
   "language": "python",
   "name": "python3"
  },
  "language_info": {
   "codemirror_mode": {
    "name": "ipython",
    "version": 3
   },
   "file_extension": ".py",
   "mimetype": "text/x-python",
   "name": "python",
   "nbconvert_exporter": "python",
   "pygments_lexer": "ipython3",
   "version": "3.13.4"
  }
 },
 "nbformat": 4,
 "nbformat_minor": 5
}
